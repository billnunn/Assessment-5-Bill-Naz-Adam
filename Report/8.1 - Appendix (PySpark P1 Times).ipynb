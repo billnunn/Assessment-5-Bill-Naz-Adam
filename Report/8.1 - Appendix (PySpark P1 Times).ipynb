{
 "cells": [
  {
   "cell_type": "markdown",
   "id": "b93777cf-7043-42f6-b4dc-b33b0df7e74d",
   "metadata": {},
   "source": [
    "# 8.1 Appendix (PySpark P1 Times)"
   ]
  },
  {
   "cell_type": "markdown",
   "id": "eb2c253c-4c46-4959-979c-ecf3f43c091e",
   "metadata": {},
   "source": [
    "Most of the code here is adjusted from Section 5 and so not many comments are made. This is essentially to run the same code without the issues of slowing down. \n",
    "\n",
    "**NOTE: THE WAY THIS APPENDIX IS STRUCTURED, YOU'D NEED TO RUN EVERYTHING FOR N2R2 AND SAVE YOUR RESULTS THEN RESTART THE KERNEL AND RUN FOR N3R2 ETC. DEPENDING ON DEVICE THIS MAY OR MAY NOT WORK AND MAY LEAD TO `WINERROR10054` IF RUNTIME IS TOO LONG. THE PURPOSE OF INCLUDING THIS APPENDIX IS MOSTLY FOR COMPLETENESS**"
   ]
  },
  {
   "cell_type": "code",
   "execution_count": 1,
   "id": "e263d347-3790-4b88-a979-6c5a8400725d",
   "metadata": {},
   "outputs": [],
   "source": [
    "from graphframes import *\n",
    "from pyspark import *\n",
    "from pyspark.sql import *\n",
    "from pyspark.sql.types import IntegerType\n",
    "\n",
    "import numpy as np\n",
    "import pandas as pd\n",
    "import networkx as nx\n",
    "import matplotlib.pyplot as plt"
   ]
  },
  {
   "cell_type": "code",
   "execution_count": 2,
   "id": "668cacce-6375-4611-888f-9fa5b254aa80",
   "metadata": {},
   "outputs": [],
   "source": [
    "#initialise sparkContext and set checkpoint \n",
    "sc = spark.sparkContext\n",
    "sc.setCheckpointDir('times1_cps')"
   ]
  },
  {
   "cell_type": "code",
   "execution_count": 3,
   "id": "88045265-b28e-45c4-be94-08c7c5d4aea1",
   "metadata": {},
   "outputs": [],
   "source": [
    "#number of nodes that correspond to our ER graphs\n",
    "nodes = [10,32, 100, 316, 1000, 3162, 10000]"
   ]
  },
  {
   "cell_type": "markdown",
   "id": "0a2c44c0-0840-4aa3-aad6-beb7ec23efe7",
   "metadata": {},
   "source": [
    "## Loading in Graph Connection CSVs"
   ]
  },
  {
   "cell_type": "code",
   "execution_count": 4,
   "id": "52c8a938-1eff-42fe-9b69-eb745d81ff83",
   "metadata": {},
   "outputs": [],
   "source": [
    "i=1\n",
    "# loop over nodes\n",
    "for n in nodes:\n",
    "    #set path to grab correct edges csv e.g. 'G_ 100 _p1'\n",
    "    path = '../Data/G_ ' + str(n) + ' _p' + str(i)\n",
    "    edges = spark.read.csv(path,header=True)\n",
    "    #rename to match the 'src' and 'dst format that spark prefers, drop index col '_c0'\n",
    "    edges = edges.withColumnRenamed('V1','src').withColumnRenamed('V2','dst').drop('_c0')\n",
    "    #create a list of ids; these are the vertices for our erdos-renyi graphs\n",
    "    ids = list(range(1,n+1))\n",
    "    #assign vertices to ids\n",
    "    vertices = spark.createDataFrame(ids, IntegerType()).withColumnRenamed('value','id')\n",
    "    #create g's\n",
    "    locals()['g{}_{}'.format(i,n)] = GraphFrame(v=vertices,e=edges)\n",
    "    #retrieve edge count and assign it to dataframe\n",
    "    \n",
    "#delete our temp vars\n",
    "del edges\n",
    "del ids\n",
    "del vertices"
   ]
  },
  {
   "cell_type": "markdown",
   "id": "81dc8b0a-d9ec-4ca0-ab17-4255f263ff68",
   "metadata": {},
   "source": [
    "## DataFrame"
   ]
  },
  {
   "cell_type": "markdown",
   "id": "e049aba2-824e-4809-8f89-665eacc9c2d8",
   "metadata": {
    "jp-MarkdownHeadingCollapsed": true,
    "tags": []
   },
   "source": [
    "### N2R2"
   ]
  },
  {
   "cell_type": "code",
   "execution_count": 5,
   "id": "489c97fe-8db4-4fa6-9b45-ddcffb03510c",
   "metadata": {},
   "outputs": [],
   "source": [
    "#function for calculating num of communities\n",
    "#this is in a separate cell so that the magic %%time function in the next cell works correctly\n",
    "def countComps(graph):\n",
    "    return graph.connectedComponents().select('component').distinct().count()"
   ]
  },
  {
   "cell_type": "code",
   "execution_count": 6,
   "id": "f6e9b52b-1a4f-46a5-b35b-50a1bafe4fa8",
   "metadata": {},
   "outputs": [],
   "source": [
    "def timeResults(graph):\n",
    "    result = %timeit -n2 -r2 -o countComps(graph)\n",
    "    return result"
   ]
  },
  {
   "cell_type": "code",
   "execution_count": 7,
   "id": "931146ec-0ec3-41ae-aa72-b9356f337852",
   "metadata": {},
   "outputs": [
    {
     "name": "stdout",
     "output_type": "stream",
     "text": [
      "13.2 s ± 2.53 s per loop (mean ± std. dev. of 2 runs, 2 loops each)\n",
      "18.3 s ± 1.13 s per loop (mean ± std. dev. of 2 runs, 2 loops each)\n",
      "21.1 s ± 1.18 s per loop (mean ± std. dev. of 2 runs, 2 loops each)\n",
      "24.2 s ± 2.44 s per loop (mean ± std. dev. of 2 runs, 2 loops each)\n",
      "25.9 s ± 2.86 s per loop (mean ± std. dev. of 2 runs, 2 loops each)\n",
      "38.4 s ± 6.06 s per loop (mean ± std. dev. of 2 runs, 2 loops each)\n",
      "58.4 s ± 15.4 s per loop (mean ± std. dev. of 2 runs, 2 loops each)\n"
     ]
    }
   ],
   "source": [
    "np.random.seed(42) \n",
    "\n",
    "for n in nodes:\n",
    "    graph = locals()['g{}_{}'.format(i,n)]\n",
    "    locals()['r{}_{}'.format(i,n)] = timeResults(graph)"
   ]
  },
  {
   "cell_type": "code",
   "execution_count": 8,
   "id": "37882f0d-e68b-4ee0-a20c-b78eab328dd4",
   "metadata": {},
   "outputs": [],
   "source": [
    "times_lst = []\n",
    "\n",
    "for n in nodes:\n",
    "    times_lst.append((i,n,str(locals()['r{}_{}'.format(i,n)])))"
   ]
  },
  {
   "cell_type": "code",
   "execution_count": 9,
   "id": "4ae3cf0a-963f-427b-839d-131075e7fa3d",
   "metadata": {},
   "outputs": [],
   "source": [
    "def getMean(ts):\n",
    "    splt =  ts.split('±')[0].split(' ')[0:2]\n",
    "    #if time in seconds, we dont need to do anything \n",
    "    if splt[1] == 's':\n",
    "        time = splt[0]\n",
    "        return time \n",
    "    else: #if time is 1min 10s for example\n",
    "        mins = splt[0][0] #take the number before 'min'\n",
    "        secs = splt[1][:-1] #take everything except the 's'\n",
    "        time = int(mins)*60 + int(secs) #convert to seconds\n",
    "        return time"
   ]
  },
  {
   "cell_type": "code",
   "execution_count": 10,
   "id": "e737372e-279f-4eb5-8168-857492845483",
   "metadata": {},
   "outputs": [
    {
     "data": {
      "text/plain": [
       "'13.2 s ± 2.53 s per loop (mean ± std. dev. of 2 runs, 2 loops each)'"
      ]
     },
     "execution_count": 10,
     "metadata": {},
     "output_type": "execute_result"
    }
   ],
   "source": [
    "ts = times_lst[0][2]\n",
    "ts"
   ]
  },
  {
   "cell_type": "code",
   "execution_count": 11,
   "id": "2a1b1616-1cad-40d7-9065-6a86b000b737",
   "metadata": {},
   "outputs": [
    {
     "data": {
      "text/plain": [
       "['2.53', 's']"
      ]
     },
     "execution_count": 11,
     "metadata": {},
     "output_type": "execute_result"
    }
   ],
   "source": [
    "ts.split('±')[1].split(' ')[1:3]"
   ]
  },
  {
   "cell_type": "code",
   "execution_count": 12,
   "id": "f3a87651-b94a-4a26-ba9c-7585723d56bf",
   "metadata": {},
   "outputs": [],
   "source": [
    "def getSD(ts):\n",
    "    splt = ts.split('±')[1].split(' ')[1:3]\n",
    "    if splt[1] == 'ms':\n",
    "        time = int(splt[0])/1000\n",
    "        return time\n",
    "    else:\n",
    "        time = splt[0]\n",
    "        return time"
   ]
  },
  {
   "cell_type": "code",
   "execution_count": 13,
   "id": "ab114a35-434b-4448-ac8c-82ae67ae694b",
   "metadata": {},
   "outputs": [],
   "source": [
    "times_dict = {}\n",
    "times_dict['p'] = [i for i,n,ts in times_lst]\n",
    "times_dict['nodes'] = [n for i,n,ts in times_lst]\n",
    "times_dict['mean'] = [getMean(ts) for i,n,ts in times_lst]\n",
    "times_dict['sd'] = [getSD(ts) for i,n,ts in times_lst]"
   ]
  },
  {
   "cell_type": "code",
   "execution_count": 14,
   "id": "8da1e149-ffcb-4319-81c8-212e5d8c6c8d",
   "metadata": {},
   "outputs": [
    {
     "data": {
      "text/plain": [
       "{'p': [1, 1, 1, 1, 1, 1, 1],\n",
       " 'nodes': [10, 32, 100, 316, 1000, 3162, 10000],\n",
       " 'mean': ['13.2', '18.3', '21.1', '24.2', '25.9', '38.4', '58.4'],\n",
       " 'sd': ['2.53', '1.13', '1.18', '2.44', '2.86', '6.06', '15.4']}"
      ]
     },
     "execution_count": 14,
     "metadata": {},
     "output_type": "execute_result"
    }
   ],
   "source": [
    "times_dict"
   ]
  },
  {
   "cell_type": "code",
   "execution_count": 17,
   "id": "603a6b95-de51-4cc0-949e-b4da6af4308d",
   "metadata": {},
   "outputs": [
    {
     "data": {
      "text/html": [
       "<div>\n",
       "<style scoped>\n",
       "    .dataframe tbody tr th:only-of-type {\n",
       "        vertical-align: middle;\n",
       "    }\n",
       "\n",
       "    .dataframe tbody tr th {\n",
       "        vertical-align: top;\n",
       "    }\n",
       "\n",
       "    .dataframe thead th {\n",
       "        text-align: right;\n",
       "    }\n",
       "</style>\n",
       "<table border=\"1\" class=\"dataframe\">\n",
       "  <thead>\n",
       "    <tr style=\"text-align: right;\">\n",
       "      <th></th>\n",
       "      <th>p</th>\n",
       "      <th>nodes</th>\n",
       "      <th>mean</th>\n",
       "      <th>sd</th>\n",
       "    </tr>\n",
       "  </thead>\n",
       "  <tbody>\n",
       "    <tr>\n",
       "      <th>0</th>\n",
       "      <td>1</td>\n",
       "      <td>10</td>\n",
       "      <td>13.2</td>\n",
       "      <td>2.53</td>\n",
       "    </tr>\n",
       "    <tr>\n",
       "      <th>1</th>\n",
       "      <td>1</td>\n",
       "      <td>32</td>\n",
       "      <td>18.3</td>\n",
       "      <td>1.13</td>\n",
       "    </tr>\n",
       "    <tr>\n",
       "      <th>2</th>\n",
       "      <td>1</td>\n",
       "      <td>100</td>\n",
       "      <td>21.1</td>\n",
       "      <td>1.18</td>\n",
       "    </tr>\n",
       "    <tr>\n",
       "      <th>3</th>\n",
       "      <td>1</td>\n",
       "      <td>316</td>\n",
       "      <td>24.2</td>\n",
       "      <td>2.44</td>\n",
       "    </tr>\n",
       "    <tr>\n",
       "      <th>4</th>\n",
       "      <td>1</td>\n",
       "      <td>1000</td>\n",
       "      <td>25.9</td>\n",
       "      <td>2.86</td>\n",
       "    </tr>\n",
       "    <tr>\n",
       "      <th>5</th>\n",
       "      <td>1</td>\n",
       "      <td>3162</td>\n",
       "      <td>38.4</td>\n",
       "      <td>6.06</td>\n",
       "    </tr>\n",
       "    <tr>\n",
       "      <th>6</th>\n",
       "      <td>1</td>\n",
       "      <td>10000</td>\n",
       "      <td>58.4</td>\n",
       "      <td>15.4</td>\n",
       "    </tr>\n",
       "  </tbody>\n",
       "</table>\n",
       "</div>"
      ],
      "text/plain": [
       "   p  nodes  mean    sd\n",
       "0  1     10  13.2  2.53\n",
       "1  1     32  18.3  1.13\n",
       "2  1    100  21.1  1.18\n",
       "3  1    316  24.2  2.44\n",
       "4  1   1000  25.9  2.86\n",
       "5  1   3162  38.4  6.06\n",
       "6  1  10000  58.4  15.4"
      ]
     },
     "execution_count": 17,
     "metadata": {},
     "output_type": "execute_result"
    }
   ],
   "source": [
    "times_df = pd.DataFrame(data=times_dict)\n",
    "times_df.sort_values(by=['p','nodes'])"
   ]
  },
  {
   "cell_type": "code",
   "execution_count": 16,
   "id": "f6c0d5ee-7877-4a61-b76e-eb473c904754",
   "metadata": {},
   "outputs": [],
   "source": [
    "times_df.to_csv('../Data/p1_times_1.csv')"
   ]
  },
  {
   "cell_type": "markdown",
   "id": "e9fcc7d5-fb74-4a65-b00a-c215de147847",
   "metadata": {
    "tags": []
   },
   "source": [
    "### N3 R2"
   ]
  },
  {
   "cell_type": "code",
   "execution_count": 5,
   "id": "9922e759-05c2-42b0-a8ef-b891d49aed6e",
   "metadata": {},
   "outputs": [],
   "source": [
    "#function for calculating num of communities\n",
    "#this is in a separate cell so that the magic %%time function in the next cell works correctly\n",
    "def countComps(graph):\n",
    "    return graph.connectedComponents().select('component').distinct().count()"
   ]
  },
  {
   "cell_type": "code",
   "execution_count": 6,
   "id": "66296933-3a6c-4be4-adf8-af26c167a37b",
   "metadata": {},
   "outputs": [],
   "source": [
    "def timeResults(graph):\n",
    "    result = %timeit -n3 -r2 -o countComps(graph)\n",
    "    return result"
   ]
  },
  {
   "cell_type": "code",
   "execution_count": 7,
   "id": "365b0e52-77f8-46a8-a0e8-2623537c755a",
   "metadata": {},
   "outputs": [
    {
     "name": "stdout",
     "output_type": "stream",
     "text": [
      "12.5 s ± 1.94 s per loop (mean ± std. dev. of 2 runs, 3 loops each)\n",
      "18.1 s ± 780 ms per loop (mean ± std. dev. of 2 runs, 3 loops each)\n",
      "19.5 s ± 1.29 s per loop (mean ± std. dev. of 2 runs, 3 loops each)\n",
      "21.7 s ± 1.2 s per loop (mean ± std. dev. of 2 runs, 3 loops each)\n",
      "24.2 s ± 2.11 s per loop (mean ± std. dev. of 2 runs, 3 loops each)\n",
      "36.3 s ± 4.09 s per loop (mean ± std. dev. of 2 runs, 3 loops each)\n",
      "1min 34s ± 5.93 s per loop (mean ± std. dev. of 2 runs, 3 loops each)\n"
     ]
    }
   ],
   "source": [
    "np.random.seed(42) \n",
    "\n",
    "for n in nodes:\n",
    "    graph = locals()['g{}_{}'.format(i,n)]\n",
    "    locals()['r{}_{}'.format(i,n)] = timeResults(graph)"
   ]
  },
  {
   "cell_type": "code",
   "execution_count": 8,
   "id": "66d2bb26-01ae-4c78-b3de-a02b66948aeb",
   "metadata": {},
   "outputs": [],
   "source": [
    "times_lst = []\n",
    "\n",
    "for n in nodes:\n",
    "    times_lst.append((i,n,str(locals()['r{}_{}'.format(i,n)])))"
   ]
  },
  {
   "cell_type": "code",
   "execution_count": 9,
   "id": "c36feb8e-82a0-4387-9086-44fc99c75e21",
   "metadata": {},
   "outputs": [],
   "source": [
    "def getMean(ts):\n",
    "    splt =  ts.split('±')[0].split(' ')[0:2]\n",
    "    #if time in seconds, we dont need to do anything \n",
    "    if splt[1] == 's':\n",
    "        time = splt[0]\n",
    "        return time \n",
    "    else: #if time is 1min 10s for example\n",
    "        mins = splt[0][0] #take the number before 'min'\n",
    "        secs = splt[1][:-1] #take everything except the 's'\n",
    "        time = int(mins)*60 + int(secs) #convert to seconds\n",
    "        return time"
   ]
  },
  {
   "cell_type": "code",
   "execution_count": 10,
   "id": "cbceb221-c017-4c51-8378-f54a879972b9",
   "metadata": {},
   "outputs": [
    {
     "data": {
      "text/plain": [
       "'12.5 s ± 1.94 s per loop (mean ± std. dev. of 2 runs, 3 loops each)'"
      ]
     },
     "execution_count": 10,
     "metadata": {},
     "output_type": "execute_result"
    }
   ],
   "source": [
    "ts = times_lst[0][2]\n",
    "ts"
   ]
  },
  {
   "cell_type": "code",
   "execution_count": 11,
   "id": "1d859913-a29e-4631-9c78-8d56d8a5d5d7",
   "metadata": {},
   "outputs": [
    {
     "data": {
      "text/plain": [
       "['1.94', 's']"
      ]
     },
     "execution_count": 11,
     "metadata": {},
     "output_type": "execute_result"
    }
   ],
   "source": [
    "ts.split('±')[1].split(' ')[1:3]"
   ]
  },
  {
   "cell_type": "code",
   "execution_count": 12,
   "id": "0b4d72fa-df62-4fdf-82bc-71ac20b2f50a",
   "metadata": {},
   "outputs": [],
   "source": [
    "def getSD(ts):\n",
    "    splt = ts.split('±')[1].split(' ')[1:3]\n",
    "    if splt[1] == 'ms':\n",
    "        time = int(splt[0])/1000\n",
    "        return time\n",
    "    else:\n",
    "        time = splt[0]\n",
    "        return time"
   ]
  },
  {
   "cell_type": "code",
   "execution_count": 13,
   "id": "a9eadc72-485b-4f65-970e-c89a97f30327",
   "metadata": {},
   "outputs": [],
   "source": [
    "times_dict = {}\n",
    "times_dict['p'] = [i for i,n,ts in times_lst]\n",
    "times_dict['nodes'] = [n for i,n,ts in times_lst]\n",
    "times_dict['mean'] = [getMean(ts) for i,n,ts in times_lst]\n",
    "times_dict['sd'] = [getSD(ts) for i,n,ts in times_lst]"
   ]
  },
  {
   "cell_type": "code",
   "execution_count": 14,
   "id": "619c12e9-b86f-4a98-a640-a13862b52cfa",
   "metadata": {},
   "outputs": [
    {
     "data": {
      "text/plain": [
       "{'p': [1, 1, 1, 1, 1, 1, 1],\n",
       " 'nodes': [10, 32, 100, 316, 1000, 3162, 10000],\n",
       " 'mean': ['12.5', '18.1', '19.5', '21.7', '24.2', '36.3', 94],\n",
       " 'sd': ['1.94', 0.78, '1.29', '1.2', '2.11', '4.09', '5.93']}"
      ]
     },
     "execution_count": 14,
     "metadata": {},
     "output_type": "execute_result"
    }
   ],
   "source": [
    "times_dict"
   ]
  },
  {
   "cell_type": "code",
   "execution_count": 15,
   "id": "7f77dd86-9c79-4f25-8ebc-b50bd49a0167",
   "metadata": {},
   "outputs": [
    {
     "data": {
      "text/html": [
       "<div>\n",
       "<style scoped>\n",
       "    .dataframe tbody tr th:only-of-type {\n",
       "        vertical-align: middle;\n",
       "    }\n",
       "\n",
       "    .dataframe tbody tr th {\n",
       "        vertical-align: top;\n",
       "    }\n",
       "\n",
       "    .dataframe thead th {\n",
       "        text-align: right;\n",
       "    }\n",
       "</style>\n",
       "<table border=\"1\" class=\"dataframe\">\n",
       "  <thead>\n",
       "    <tr style=\"text-align: right;\">\n",
       "      <th></th>\n",
       "      <th>p</th>\n",
       "      <th>nodes</th>\n",
       "      <th>mean</th>\n",
       "      <th>sd</th>\n",
       "    </tr>\n",
       "  </thead>\n",
       "  <tbody>\n",
       "    <tr>\n",
       "      <th>0</th>\n",
       "      <td>1</td>\n",
       "      <td>10</td>\n",
       "      <td>12.5</td>\n",
       "      <td>1.94</td>\n",
       "    </tr>\n",
       "    <tr>\n",
       "      <th>1</th>\n",
       "      <td>1</td>\n",
       "      <td>32</td>\n",
       "      <td>18.1</td>\n",
       "      <td>0.78</td>\n",
       "    </tr>\n",
       "    <tr>\n",
       "      <th>2</th>\n",
       "      <td>1</td>\n",
       "      <td>100</td>\n",
       "      <td>19.5</td>\n",
       "      <td>1.29</td>\n",
       "    </tr>\n",
       "    <tr>\n",
       "      <th>3</th>\n",
       "      <td>1</td>\n",
       "      <td>316</td>\n",
       "      <td>21.7</td>\n",
       "      <td>1.2</td>\n",
       "    </tr>\n",
       "    <tr>\n",
       "      <th>4</th>\n",
       "      <td>1</td>\n",
       "      <td>1000</td>\n",
       "      <td>24.2</td>\n",
       "      <td>2.11</td>\n",
       "    </tr>\n",
       "    <tr>\n",
       "      <th>5</th>\n",
       "      <td>1</td>\n",
       "      <td>3162</td>\n",
       "      <td>36.3</td>\n",
       "      <td>4.09</td>\n",
       "    </tr>\n",
       "    <tr>\n",
       "      <th>6</th>\n",
       "      <td>1</td>\n",
       "      <td>10000</td>\n",
       "      <td>94</td>\n",
       "      <td>5.93</td>\n",
       "    </tr>\n",
       "  </tbody>\n",
       "</table>\n",
       "</div>"
      ],
      "text/plain": [
       "   p  nodes  mean    sd\n",
       "0  1     10  12.5  1.94\n",
       "1  1     32  18.1  0.78\n",
       "2  1    100  19.5  1.29\n",
       "3  1    316  21.7   1.2\n",
       "4  1   1000  24.2  2.11\n",
       "5  1   3162  36.3  4.09\n",
       "6  1  10000    94  5.93"
      ]
     },
     "execution_count": 15,
     "metadata": {},
     "output_type": "execute_result"
    }
   ],
   "source": [
    "times_df = pd.DataFrame(data=times_dict)\n",
    "times_df.sort_values(by=['p','nodes'])"
   ]
  },
  {
   "cell_type": "code",
   "execution_count": 16,
   "id": "f39a94bd-aa4a-4c7d-877f-30f492cc6092",
   "metadata": {},
   "outputs": [],
   "source": [
    "times_df.to_csv('../Data/p1_times_2.csv')"
   ]
  },
  {
   "cell_type": "markdown",
   "id": "0610bb8f-9593-4bc2-94e3-e21508181a2a",
   "metadata": {},
   "source": [
    "## PageRank"
   ]
  },
  {
   "cell_type": "code",
   "execution_count": 17,
   "id": "7c8a6860-8da5-44fd-9dee-75eb7c65bd32",
   "metadata": {},
   "outputs": [],
   "source": [
    "#function for calculating num of communities\n",
    "#this is in a separate cell so that the magic %%time function in the next cell works correctly\n",
    "def pRank(graph):\n",
    "    return graph.pageRank(resetProbability=0.15, maxIter=10)"
   ]
  },
  {
   "cell_type": "code",
   "execution_count": 8,
   "id": "c6a5f6d5-00ef-4418-b7fa-3cb617d7fa9a",
   "metadata": {},
   "outputs": [],
   "source": [
    "def timePR(graph):\n",
    "    result = %timeit -n10 -r10 -o pRank(graph)\n",
    "    return result"
   ]
  },
  {
   "cell_type": "code",
   "execution_count": 9,
   "id": "46125915-a6f3-4c5f-ab82-6a1521ac10d3",
   "metadata": {},
   "outputs": [
    {
     "name": "stdout",
     "output_type": "stream",
     "text": [
      "1.14 s ± 269 ms per loop (mean ± std. dev. of 10 runs, 10 loops each)\n",
      "1.17 s ± 225 ms per loop (mean ± std. dev. of 10 runs, 10 loops each)\n",
      "1.24 s ± 235 ms per loop (mean ± std. dev. of 10 runs, 10 loops each)\n",
      "1.32 s ± 192 ms per loop (mean ± std. dev. of 10 runs, 10 loops each)\n",
      "1.4 s ± 239 ms per loop (mean ± std. dev. of 10 runs, 10 loops each)\n",
      "1.34 s ± 355 ms per loop (mean ± std. dev. of 10 runs, 10 loops each)\n",
      "1.43 s ± 321 ms per loop (mean ± std. dev. of 10 runs, 10 loops each)\n"
     ]
    }
   ],
   "source": [
    "np.random.seed(42) \n",
    "\n",
    "for n in nodes:\n",
    "    graph = locals()['g{}_{}'.format(i,n)]\n",
    "    locals()['r{}_{}'.format(i,n)] = timePR(graph)"
   ]
  },
  {
   "cell_type": "code",
   "execution_count": 11,
   "id": "03ac5977-84c8-42a3-b4c6-4fdc35a04cc0",
   "metadata": {},
   "outputs": [],
   "source": [
    "times_lst = []\n",
    "\n",
    "for n in nodes:\n",
    "    times_lst.append((i,n,str(locals()['r{}_{}'.format(i,n)])))"
   ]
  },
  {
   "cell_type": "code",
   "execution_count": 12,
   "id": "a33c2ae2-eae4-409f-9707-795788611fea",
   "metadata": {},
   "outputs": [],
   "source": [
    "def getMean(ts):\n",
    "    splt =  ts.split('±')[0].split(' ')[0:2]\n",
    "    #if time in seconds, we dont need to do anything \n",
    "    if splt[1] == 's':\n",
    "        time = splt[0]\n",
    "        return time \n",
    "    elif splt[1] == 'ms':\n",
    "        time = int(splt[0])/1000\n",
    "    else: #if time is 1min 10s for example\n",
    "        mins = splt[0][0] #take the number before 'min'\n",
    "        secs = splt[1][:-1] #take everything except the 's'\n",
    "        time = int(mins)*60 + int(secs) #convert to seconds\n",
    "        return time"
   ]
  },
  {
   "cell_type": "code",
   "execution_count": 13,
   "id": "20fa3991-b598-45da-a2ac-d6ed19a47247",
   "metadata": {},
   "outputs": [
    {
     "data": {
      "text/plain": [
       "'1.14 s ± 269 ms per loop (mean ± std. dev. of 10 runs, 10 loops each)'"
      ]
     },
     "execution_count": 13,
     "metadata": {},
     "output_type": "execute_result"
    }
   ],
   "source": [
    "ts = times_lst[0][2]\n",
    "ts"
   ]
  },
  {
   "cell_type": "code",
   "execution_count": 14,
   "id": "7da86cbb-71de-4cf8-9709-bf0b483b158b",
   "metadata": {},
   "outputs": [
    {
     "data": {
      "text/plain": [
       "['269', 'ms']"
      ]
     },
     "execution_count": 14,
     "metadata": {},
     "output_type": "execute_result"
    }
   ],
   "source": [
    "ts.split('±')[1].split(' ')[1:3]"
   ]
  },
  {
   "cell_type": "code",
   "execution_count": 15,
   "id": "fbae48e2-1903-4a18-92f6-f425bedfd03d",
   "metadata": {},
   "outputs": [],
   "source": [
    "def getSD(ts):\n",
    "    splt = ts.split('±')[1].split(' ')[1:3]\n",
    "    if splt[1] == 'ms':\n",
    "        time = float(splt[0])/1000\n",
    "        return time\n",
    "    else:\n",
    "        time = splt[0]\n",
    "        return time"
   ]
  },
  {
   "cell_type": "code",
   "execution_count": 16,
   "id": "a5e3c2a8-958a-4d23-9e56-c078e7557ab8",
   "metadata": {},
   "outputs": [],
   "source": [
    "times_dict = {}\n",
    "times_dict['p'] = [i for i,n,ts in times_lst]\n",
    "times_dict['nodes'] = [n for i,n,ts in times_lst]\n",
    "times_dict['mean'] = [getMean(ts) for i,n,ts in times_lst]\n",
    "times_dict['sd'] = [getSD(ts) for i,n,ts in times_lst]"
   ]
  },
  {
   "cell_type": "code",
   "execution_count": 17,
   "id": "a1ef3c2d-018e-4707-8f15-7a404af41b2b",
   "metadata": {},
   "outputs": [
    {
     "data": {
      "text/plain": [
       "{'p': [1, 1, 1, 1, 1, 1, 1],\n",
       " 'nodes': [10, 32, 100, 316, 1000, 3162, 10000],\n",
       " 'mean': ['1.14', '1.17', '1.24', '1.32', '1.4', '1.34', '1.43'],\n",
       " 'sd': [0.269, 0.225, 0.235, 0.192, 0.239, 0.355, 0.321]}"
      ]
     },
     "execution_count": 17,
     "metadata": {},
     "output_type": "execute_result"
    }
   ],
   "source": [
    "times_dict"
   ]
  },
  {
   "cell_type": "code",
   "execution_count": 18,
   "id": "0ecaddae-a899-41c1-a44e-5c8b0397f2a3",
   "metadata": {},
   "outputs": [
    {
     "data": {
      "text/html": [
       "<div>\n",
       "<style scoped>\n",
       "    .dataframe tbody tr th:only-of-type {\n",
       "        vertical-align: middle;\n",
       "    }\n",
       "\n",
       "    .dataframe tbody tr th {\n",
       "        vertical-align: top;\n",
       "    }\n",
       "\n",
       "    .dataframe thead th {\n",
       "        text-align: right;\n",
       "    }\n",
       "</style>\n",
       "<table border=\"1\" class=\"dataframe\">\n",
       "  <thead>\n",
       "    <tr style=\"text-align: right;\">\n",
       "      <th></th>\n",
       "      <th>p</th>\n",
       "      <th>nodes</th>\n",
       "      <th>mean</th>\n",
       "      <th>sd</th>\n",
       "    </tr>\n",
       "  </thead>\n",
       "  <tbody>\n",
       "    <tr>\n",
       "      <th>0</th>\n",
       "      <td>1</td>\n",
       "      <td>10</td>\n",
       "      <td>1.14</td>\n",
       "      <td>0.269</td>\n",
       "    </tr>\n",
       "    <tr>\n",
       "      <th>1</th>\n",
       "      <td>1</td>\n",
       "      <td>32</td>\n",
       "      <td>1.17</td>\n",
       "      <td>0.225</td>\n",
       "    </tr>\n",
       "    <tr>\n",
       "      <th>2</th>\n",
       "      <td>1</td>\n",
       "      <td>100</td>\n",
       "      <td>1.24</td>\n",
       "      <td>0.235</td>\n",
       "    </tr>\n",
       "    <tr>\n",
       "      <th>3</th>\n",
       "      <td>1</td>\n",
       "      <td>316</td>\n",
       "      <td>1.32</td>\n",
       "      <td>0.192</td>\n",
       "    </tr>\n",
       "    <tr>\n",
       "      <th>4</th>\n",
       "      <td>1</td>\n",
       "      <td>1000</td>\n",
       "      <td>1.4</td>\n",
       "      <td>0.239</td>\n",
       "    </tr>\n",
       "    <tr>\n",
       "      <th>5</th>\n",
       "      <td>1</td>\n",
       "      <td>3162</td>\n",
       "      <td>1.34</td>\n",
       "      <td>0.355</td>\n",
       "    </tr>\n",
       "    <tr>\n",
       "      <th>6</th>\n",
       "      <td>1</td>\n",
       "      <td>10000</td>\n",
       "      <td>1.43</td>\n",
       "      <td>0.321</td>\n",
       "    </tr>\n",
       "  </tbody>\n",
       "</table>\n",
       "</div>"
      ],
      "text/plain": [
       "   p  nodes  mean     sd\n",
       "0  1     10  1.14  0.269\n",
       "1  1     32  1.17  0.225\n",
       "2  1    100  1.24  0.235\n",
       "3  1    316  1.32  0.192\n",
       "4  1   1000   1.4  0.239\n",
       "5  1   3162  1.34  0.355\n",
       "6  1  10000  1.43  0.321"
      ]
     },
     "execution_count": 18,
     "metadata": {},
     "output_type": "execute_result"
    }
   ],
   "source": [
    "times_df = pd.DataFrame(data=times_dict)\n",
    "times_df.sort_values(by=['p','nodes'])"
   ]
  },
  {
   "cell_type": "code",
   "execution_count": 19,
   "id": "9d8dca91-f3a8-481b-8230-ef3f9c8053e7",
   "metadata": {},
   "outputs": [],
   "source": [
    "times_df.to_csv('../Data/p1_times_pr.csv')"
   ]
  },
  {
   "cell_type": "code",
   "execution_count": null,
   "id": "538804b6-3a02-4a23-b1e0-7c1515d935f6",
   "metadata": {},
   "outputs": [],
   "source": []
  }
 ],
 "metadata": {
  "kernelspec": {
   "display_name": "assessment4env",
   "language": "python",
   "name": "assessment4env"
  },
  "language_info": {
   "codemirror_mode": {
    "name": "ipython",
    "version": 3
   },
   "file_extension": ".py",
   "mimetype": "text/x-python",
   "name": "python",
   "nbconvert_exporter": "python",
   "pygments_lexer": "ipython3",
   "version": "3.8.5"
  }
 },
 "nbformat": 4,
 "nbformat_minor": 5
}

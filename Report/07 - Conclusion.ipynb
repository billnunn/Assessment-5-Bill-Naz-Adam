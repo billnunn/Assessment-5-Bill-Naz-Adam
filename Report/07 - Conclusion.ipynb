{
 "cells": [
  {
   "cell_type": "markdown",
   "id": "ecd56b43",
   "metadata": {},
   "source": [
    "# Conclusion\n",
    "\n",
    "## Scala\n",
    "\n",
    "We found that the approach that we took during this project was generally unsuccessful. With not enough iterations and low conductivity in edges it meant that we were not able to provide an accurate replication of social sentiment through an office in either approach. While we found that approach 1 provided more expected and useful results, it was not good enough to provide results that we felt comfortable drawing conclusions on. \n",
    "\n",
    "Therefore, while we were unsuccessful in finding employees that are likely to be insider threats, we have a firm basis for futher improvements that could lead to some very useful results. "
   ]
  },
  {
   "cell_type": "markdown",
   "id": "1369fd25",
   "metadata": {},
   "source": [
    "## Time Complexity"
   ]
  },
  {
   "cell_type": "code",
   "execution_count": null,
   "id": "ea104a3a",
   "metadata": {},
   "outputs": [],
   "source": []
  },
  {
   "cell_type": "markdown",
   "id": "f369323d",
   "metadata": {},
   "source": [
    "## Improvements\n",
    "\n",
    "- As we have mentioned a few times, it would likely provide better results if we were to have more than 2 iterations of sentiment spread.\n",
    "- We could have normalised the weightings during the program rather than during the analysis, this would ensure that the results are more reasonable and more understanable, without impacting the structure of the data.\n",
    "- It is possible that due to the truncation for values at various points during the Scala implementation, it may have truncated the scientific notation e.g instead of 9.0e-4 it just uses 9. This is a possible reason behind the unexpected values produced by approach 2.\n",
    "- We could have used a non-linear method for accounting for when multiple emails have the same sender and reciever. For example a gaussian could account for a 'sweet spot' more emails is better but not too many, this would be useful for networks with newsletters (how many people actaully read them after all). Or likely a better method would be to use an exponential function, providing a scenarios where more is always better. \n",
    " "
   ]
  },
  {
   "cell_type": "code",
   "execution_count": null,
   "id": "fe6d4323",
   "metadata": {},
   "outputs": [],
   "source": []
  }
 ],
 "metadata": {
  "kernelspec": {
   "display_name": "Python 3 (ipykernel)",
   "language": "python",
   "name": "python3"
  },
  "language_info": {
   "codemirror_mode": {
    "name": "ipython",
    "version": 3
   },
   "file_extension": ".py",
   "mimetype": "text/x-python",
   "name": "python",
   "nbconvert_exporter": "python",
   "pygments_lexer": "ipython3",
   "version": "3.8.10"
  }
 },
 "nbformat": 4,
 "nbformat_minor": 5
}

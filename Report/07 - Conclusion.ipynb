{
 "cells": [
  {
   "cell_type": "markdown",
   "id": "44be9e4c",
   "metadata": {},
   "source": [
    "# Conclusion\n",
    "\n",
    "## Scala\n",
    "\n",
    "neg sentiment reflection is realistic (angry A -> increases anger of B -> increases anger of A)\n",
    "normalisation to ensure max neg_sent <=1\n",
    "approach 2 coulbe be because of formatting in scala (no e-4...)?\n",
    "On top of this, because the edge weights are being summed it also means that if the destination node recieves lots of emails from one person then that would affect them more.  - use a gaussian dist (not too few not too many (think newsletters etc)) or exp (more has more effect) for when multiple emails sent by one person? "
   ]
  },
  {
   "cell_type": "markdown",
   "id": "12198d21",
   "metadata": {},
   "source": [
    "## Time Complexity"
   ]
  },
  {
   "cell_type": "code",
   "execution_count": null,
   "id": "c28f444a",
   "metadata": {},
   "outputs": [],
   "source": []
  }
 ],
 "metadata": {
  "kernelspec": {
   "display_name": "Python 3 (ipykernel)",
   "language": "python",
   "name": "python3"
  },
  "language_info": {
   "codemirror_mode": {
    "name": "ipython",
    "version": 3
   },
   "file_extension": ".py",
   "mimetype": "text/x-python",
   "name": "python",
   "nbconvert_exporter": "python",
   "pygments_lexer": "ipython3",
   "version": "3.8.10"
  }
 },
 "nbformat": 4,
 "nbformat_minor": 5
}

{
 "cells": [
  {
   "cell_type": "code",
   "execution_count": null,
   "id": "4dc03ecd",
   "metadata": {},
   "outputs": [],
   "source": [
    "import pandas as pd"
   ]
  },
  {
   "cell_type": "code",
   "execution_count": null,
   "id": "686ae61c",
   "metadata": {},
   "outputs": [],
   "source": [
    "#read in first LDAP \n",
    "first = pd.read_csv(\"../data/r6.2/LDAP/\")\n",
    "#read in last LDAP\n",
    "last = pd.read_csv(\"../data/r6.2/LDAP/\")"
   ]
  },
  {
   "cell_type": "code",
   "execution_count": null,
   "id": "7feda3a4",
   "metadata": {},
   "outputs": [],
   "source": [
    "first_emp = first['email']\n",
    "last_emp = last['email']\n",
    "fired = first_emp - last_emp\n"
   ]
  },
  {
   "cell_type": "code",
   "execution_count": null,
   "id": "afe45111",
   "metadata": {},
   "outputs": [],
   "source": [
    "with open('../data/processed/fired.csv','w') as f:\n",
    "    writer = csv.writer(f)\n",
    "    for i in fired:\n",
    "        writer.writerow(i)"
   ]
  }
 ],
 "metadata": {
  "kernelspec": {
   "display_name": "Python 3 (ipykernel)",
   "language": "python",
   "name": "python3"
  },
  "language_info": {
   "codemirror_mode": {
    "name": "ipython",
    "version": 3
   },
   "file_extension": ".py",
   "mimetype": "text/x-python",
   "name": "python",
   "nbconvert_exporter": "python",
   "pygments_lexer": "ipython3",
   "version": "3.8.10"
  }
 },
 "nbformat": 4,
 "nbformat_minor": 5
}

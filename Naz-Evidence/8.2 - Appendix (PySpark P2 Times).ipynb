{
 "cells": [
  {
   "cell_type": "markdown",
   "id": "f132b2bc-b06d-48f1-ab0b-4f1b336ee73c",
   "metadata": {},
   "source": [
    "# 8.2 Appendix (PySpark P2 Times)"
   ]
  },
  {
   "cell_type": "markdown",
   "id": "744f925d-51da-4b60-b4b7-f9c7c81f9ec1",
   "metadata": {},
   "source": [
    "Most of the code here is adjusted from Section 5 and so not many comments are made. This is essentially to run the same code without the issues of slowing down. \n",
    "\n",
    "**NOTE: THE WAY THIS APPENDIX IS STRUCTURED, YOU'D NEED TO RUN EVERYTHING FOR N2R2 AND SAVE YOUR RESULTS THEN RESTART THE KERNEL AND RUN FOR N3R2 ETC. DEPENDING ON DEVICE THIS MAY OR MAY NOT WORK AND MAY LEAD TO `WINERROR10054` IF RUNTIME IS TOO LONG. THE PURPOSE OF INCLUDING THIS APPENDIX IS MOSTLY FOR COMPLETENESS**"
   ]
  },
  {
   "cell_type": "code",
   "execution_count": 1,
   "id": "e263d347-3790-4b88-a979-6c5a8400725d",
   "metadata": {},
   "outputs": [],
   "source": [
    "from graphframes import *\n",
    "from pyspark import *\n",
    "from pyspark.sql import *\n",
    "from pyspark.sql.types import IntegerType\n",
    "\n",
    "import numpy as np\n",
    "import pandas as pd\n",
    "import networkx as nx\n",
    "import matplotlib.pyplot as plt"
   ]
  },
  {
   "cell_type": "code",
   "execution_count": 2,
   "id": "668cacce-6375-4611-888f-9fa5b254aa80",
   "metadata": {},
   "outputs": [],
   "source": [
    "#initialise sparkContext and set checkpoint \n",
    "sc = spark.sparkContext\n",
    "sc.setCheckpointDir('times1_cps')"
   ]
  },
  {
   "cell_type": "code",
   "execution_count": 3,
   "id": "88045265-b28e-45c4-be94-08c7c5d4aea1",
   "metadata": {},
   "outputs": [],
   "source": [
    "#number of nodes that correspond to our ER graphs\n",
    "nodes = [10,32, 100, 316, 1000, 3162, 10000]"
   ]
  },
  {
   "cell_type": "markdown",
   "id": "0a2c44c0-0840-4aa3-aad6-beb7ec23efe7",
   "metadata": {},
   "source": [
    "## Loading in Graph Connection CSVs"
   ]
  },
  {
   "cell_type": "code",
   "execution_count": 4,
   "id": "52c8a938-1eff-42fe-9b69-eb745d81ff83",
   "metadata": {},
   "outputs": [],
   "source": [
    "i=2\n",
    "# loop over nodes\n",
    "for n in nodes:\n",
    "    #set path to grab correct edges csv e.g. 'G_ 100 _p1'\n",
    "    path = '../Data/G_ ' + str(n) + ' _p' + str(i)\n",
    "    edges = spark.read.csv(path,header=True)\n",
    "    #rename to match the 'src' and 'dst format that spark prefers, drop index col '_c0'\n",
    "    edges = edges.withColumnRenamed('V1','src').withColumnRenamed('V2','dst').drop('_c0')\n",
    "    #create a list of ids; these are the vertices for our erdos-renyi graphs\n",
    "    ids = list(range(1,n+1))\n",
    "    #assign vertices to ids\n",
    "    vertices = spark.createDataFrame(ids, IntegerType()).withColumnRenamed('value','id')\n",
    "    #create g's\n",
    "    locals()['g{}_{}'.format(i,n)] = GraphFrame(v=vertices,e=edges)\n",
    "    #retrieve edge count and assign it to dataframe\n",
    "    \n",
    "#delete our temp vars\n",
    "del edges\n",
    "del ids\n",
    "del vertices"
   ]
  },
  {
   "cell_type": "markdown",
   "id": "81dc8b0a-d9ec-4ca0-ab17-4255f263ff68",
   "metadata": {},
   "source": [
    "## DataFrame"
   ]
  },
  {
   "cell_type": "markdown",
   "id": "549bc60e-474c-40c1-8468-df49233e6f40",
   "metadata": {
    "tags": []
   },
   "source": [
    "### Connected"
   ]
  },
  {
   "cell_type": "markdown",
   "id": "e049aba2-824e-4809-8f89-665eacc9c2d8",
   "metadata": {
    "jp-MarkdownHeadingCollapsed": true,
    "tags": []
   },
   "source": [
    "#### N2R2"
   ]
  },
  {
   "cell_type": "code",
   "execution_count": 5,
   "id": "489c97fe-8db4-4fa6-9b45-ddcffb03510c",
   "metadata": {},
   "outputs": [],
   "source": [
    "#function for calculating num of communities\n",
    "#this is in a separate cell so that the magic %%time function in the next cell works correctly\n",
    "def countComps(graph):\n",
    "    return graph.connectedComponents().select('component').distinct().count()"
   ]
  },
  {
   "cell_type": "code",
   "execution_count": 6,
   "id": "f6e9b52b-1a4f-46a5-b35b-50a1bafe4fa8",
   "metadata": {},
   "outputs": [],
   "source": [
    "def timeResults(graph):\n",
    "    result = %timeit -n2 -r2 -o countComps(graph)\n",
    "    return result"
   ]
  },
  {
   "cell_type": "code",
   "execution_count": 7,
   "id": "931146ec-0ec3-41ae-aa72-b9356f337852",
   "metadata": {},
   "outputs": [
    {
     "name": "stdout",
     "output_type": "stream",
     "text": [
      "13.1 s ± 2.36 s per loop (mean ± std. dev. of 2 runs, 2 loops each)\n",
      "14.5 s ± 1.12 s per loop (mean ± std. dev. of 2 runs, 2 loops each)\n",
      "20.1 s ± 1.39 s per loop (mean ± std. dev. of 2 runs, 2 loops each)\n",
      "23.1 s ± 2.73 s per loop (mean ± std. dev. of 2 runs, 2 loops each)\n",
      "26.7 s ± 3 s per loop (mean ± std. dev. of 2 runs, 2 loops each)\n",
      "33.1 s ± 7.06 s per loop (mean ± std. dev. of 2 runs, 2 loops each)\n",
      "1min ± 16.6 s per loop (mean ± std. dev. of 2 runs, 2 loops each)\n"
     ]
    }
   ],
   "source": [
    "np.random.seed(42) \n",
    "\n",
    "for n in nodes:\n",
    "    graph = locals()['g{}_{}'.format(i,n)]\n",
    "    locals()['r{}_{}'.format(i,n)] = timeResults(graph)"
   ]
  },
  {
   "cell_type": "code",
   "execution_count": 8,
   "id": "37882f0d-e68b-4ee0-a20c-b78eab328dd4",
   "metadata": {},
   "outputs": [],
   "source": [
    "times_lst = []\n",
    "\n",
    "for n in nodes:\n",
    "    times_lst.append((i,n,str(locals()['r{}_{}'.format(i,n)])))"
   ]
  },
  {
   "cell_type": "code",
   "execution_count": 24,
   "id": "4ae3cf0a-963f-427b-839d-131075e7fa3d",
   "metadata": {},
   "outputs": [],
   "source": [
    "def getMean(ts):\n",
    "    splt =  ts.split('±')[0].split(' ')[0:2]\n",
    "    #if time in seconds, we dont need to do anything \n",
    "    if splt[1] == 's':\n",
    "        time = splt[0]\n",
    "        return time \n",
    "    else: #if time is 1min 10s for example\n",
    "        mins = splt[0][0] #take the number before 'min'\n",
    "        #if we have exactly X mins and 0 seconds, grabbing secs will give us ''\n",
    "        try: #try this\n",
    "            secs = float(splt[1][:-1]) #take everything except the 's'\n",
    "        except: #if it fails because the above is '', then return 0\n",
    "            secs = 0\n",
    "        time = int(mins)*60 + int(secs) #convert to seconds\n",
    "        return time"
   ]
  },
  {
   "cell_type": "code",
   "execution_count": 19,
   "id": "e737372e-279f-4eb5-8168-857492845483",
   "metadata": {},
   "outputs": [
    {
     "data": {
      "text/plain": [
       "'13.1 s ± 2.36 s per loop (mean ± std. dev. of 2 runs, 2 loops each)'"
      ]
     },
     "execution_count": 19,
     "metadata": {},
     "output_type": "execute_result"
    }
   ],
   "source": [
    "ts = times_lst[0][2]\n",
    "ts"
   ]
  },
  {
   "cell_type": "code",
   "execution_count": 20,
   "id": "2a1b1616-1cad-40d7-9065-6a86b000b737",
   "metadata": {},
   "outputs": [
    {
     "data": {
      "text/plain": [
       "['2.36', 's']"
      ]
     },
     "execution_count": 20,
     "metadata": {},
     "output_type": "execute_result"
    }
   ],
   "source": [
    "ts.split('±')[1].split(' ')[1:3]"
   ]
  },
  {
   "cell_type": "code",
   "execution_count": 21,
   "id": "126eb1b7-bcb4-49bb-ac54-bf331d29b41b",
   "metadata": {},
   "outputs": [
    {
     "data": {
      "text/plain": [
       "[(2,\n",
       "  10,\n",
       "  '13.1 s ± 2.36 s per loop (mean ± std. dev. of 2 runs, 2 loops each)'),\n",
       " (2,\n",
       "  32,\n",
       "  '14.5 s ± 1.12 s per loop (mean ± std. dev. of 2 runs, 2 loops each)'),\n",
       " (2,\n",
       "  100,\n",
       "  '20.1 s ± 1.39 s per loop (mean ± std. dev. of 2 runs, 2 loops each)'),\n",
       " (2,\n",
       "  316,\n",
       "  '23.1 s ± 2.73 s per loop (mean ± std. dev. of 2 runs, 2 loops each)'),\n",
       " (2, 1000, '26.7 s ± 3 s per loop (mean ± std. dev. of 2 runs, 2 loops each)'),\n",
       " (2,\n",
       "  3162,\n",
       "  '33.1 s ± 7.06 s per loop (mean ± std. dev. of 2 runs, 2 loops each)'),\n",
       " (2,\n",
       "  10000,\n",
       "  '1min ± 16.6 s per loop (mean ± std. dev. of 2 runs, 2 loops each)')]"
      ]
     },
     "execution_count": 21,
     "metadata": {},
     "output_type": "execute_result"
    }
   ],
   "source": [
    "times_lst"
   ]
  },
  {
   "cell_type": "code",
   "execution_count": 22,
   "id": "f3a87651-b94a-4a26-ba9c-7585723d56bf",
   "metadata": {},
   "outputs": [],
   "source": [
    "def getSD(ts):\n",
    "    splt = ts.split('±')[1].split(' ')[1:3]\n",
    "    if splt[1] == 'ms':\n",
    "        time = float(splt[0])/1000\n",
    "        return time\n",
    "    else:\n",
    "        time = splt[0]\n",
    "        return time"
   ]
  },
  {
   "cell_type": "code",
   "execution_count": 23,
   "id": "ab114a35-434b-4448-ac8c-82ae67ae694b",
   "metadata": {},
   "outputs": [],
   "source": [
    "times_dict = {}\n",
    "times_dict['p'] = [i for i,n,ts in times_lst]\n",
    "times_dict['nodes'] = [n for i,n,ts in times_lst]\n",
    "times_dict['mean'] = [getMean(ts) for i,n,ts in times_lst]\n",
    "times_dict['sd'] = [getSD(ts) for i,n,ts in times_lst]"
   ]
  },
  {
   "cell_type": "code",
   "execution_count": 25,
   "id": "8da1e149-ffcb-4319-81c8-212e5d8c6c8d",
   "metadata": {},
   "outputs": [
    {
     "data": {
      "text/plain": [
       "{'p': [2, 2, 2, 2, 2, 2, 2],\n",
       " 'nodes': [10, 32, 100, 316, 1000, 3162, 10000],\n",
       " 'mean': ['13.1', '14.5', '20.1', '23.1', '26.7', '33.1', 60],\n",
       " 'sd': ['2.36', '1.12', '1.39', '2.73', '3', '7.06', '16.6']}"
      ]
     },
     "execution_count": 25,
     "metadata": {},
     "output_type": "execute_result"
    }
   ],
   "source": [
    "times_dict"
   ]
  },
  {
   "cell_type": "code",
   "execution_count": 26,
   "id": "603a6b95-de51-4cc0-949e-b4da6af4308d",
   "metadata": {},
   "outputs": [
    {
     "data": {
      "text/html": [
       "<div>\n",
       "<style scoped>\n",
       "    .dataframe tbody tr th:only-of-type {\n",
       "        vertical-align: middle;\n",
       "    }\n",
       "\n",
       "    .dataframe tbody tr th {\n",
       "        vertical-align: top;\n",
       "    }\n",
       "\n",
       "    .dataframe thead th {\n",
       "        text-align: right;\n",
       "    }\n",
       "</style>\n",
       "<table border=\"1\" class=\"dataframe\">\n",
       "  <thead>\n",
       "    <tr style=\"text-align: right;\">\n",
       "      <th></th>\n",
       "      <th>p</th>\n",
       "      <th>nodes</th>\n",
       "      <th>mean</th>\n",
       "      <th>sd</th>\n",
       "    </tr>\n",
       "  </thead>\n",
       "  <tbody>\n",
       "    <tr>\n",
       "      <th>0</th>\n",
       "      <td>2</td>\n",
       "      <td>10</td>\n",
       "      <td>13.1</td>\n",
       "      <td>2.36</td>\n",
       "    </tr>\n",
       "    <tr>\n",
       "      <th>1</th>\n",
       "      <td>2</td>\n",
       "      <td>32</td>\n",
       "      <td>14.5</td>\n",
       "      <td>1.12</td>\n",
       "    </tr>\n",
       "    <tr>\n",
       "      <th>2</th>\n",
       "      <td>2</td>\n",
       "      <td>100</td>\n",
       "      <td>20.1</td>\n",
       "      <td>1.39</td>\n",
       "    </tr>\n",
       "    <tr>\n",
       "      <th>3</th>\n",
       "      <td>2</td>\n",
       "      <td>316</td>\n",
       "      <td>23.1</td>\n",
       "      <td>2.73</td>\n",
       "    </tr>\n",
       "    <tr>\n",
       "      <th>4</th>\n",
       "      <td>2</td>\n",
       "      <td>1000</td>\n",
       "      <td>26.7</td>\n",
       "      <td>3</td>\n",
       "    </tr>\n",
       "    <tr>\n",
       "      <th>5</th>\n",
       "      <td>2</td>\n",
       "      <td>3162</td>\n",
       "      <td>33.1</td>\n",
       "      <td>7.06</td>\n",
       "    </tr>\n",
       "    <tr>\n",
       "      <th>6</th>\n",
       "      <td>2</td>\n",
       "      <td>10000</td>\n",
       "      <td>60</td>\n",
       "      <td>16.6</td>\n",
       "    </tr>\n",
       "  </tbody>\n",
       "</table>\n",
       "</div>"
      ],
      "text/plain": [
       "   p  nodes  mean    sd\n",
       "0  2     10  13.1  2.36\n",
       "1  2     32  14.5  1.12\n",
       "2  2    100  20.1  1.39\n",
       "3  2    316  23.1  2.73\n",
       "4  2   1000  26.7     3\n",
       "5  2   3162  33.1  7.06\n",
       "6  2  10000    60  16.6"
      ]
     },
     "execution_count": 26,
     "metadata": {},
     "output_type": "execute_result"
    }
   ],
   "source": [
    "times_df = pd.DataFrame(data=times_dict)\n",
    "times_df.sort_values(by=['p','nodes'])"
   ]
  },
  {
   "cell_type": "code",
   "execution_count": 27,
   "id": "f6c0d5ee-7877-4a61-b76e-eb473c904754",
   "metadata": {},
   "outputs": [],
   "source": [
    "times_df.to_csv('../Data/p2_times_1.csv')"
   ]
  },
  {
   "cell_type": "markdown",
   "id": "e9fcc7d5-fb74-4a65-b00a-c215de147847",
   "metadata": {
    "tags": []
   },
   "source": [
    "#### N3 R2"
   ]
  },
  {
   "cell_type": "code",
   "execution_count": 5,
   "id": "9922e759-05c2-42b0-a8ef-b891d49aed6e",
   "metadata": {},
   "outputs": [],
   "source": [
    "#function for calculating num of communities\n",
    "#this is in a separate cell so that the magic %%time function in the next cell works correctly\n",
    "def countComps(graph):\n",
    "    return graph.connectedComponents().select('component').distinct().count()"
   ]
  },
  {
   "cell_type": "code",
   "execution_count": 6,
   "id": "66296933-3a6c-4be4-adf8-af26c167a37b",
   "metadata": {},
   "outputs": [],
   "source": [
    "def timeResults(graph):\n",
    "    result = %timeit -n3 -r2 -o countComps(graph)\n",
    "    return result"
   ]
  },
  {
   "cell_type": "code",
   "execution_count": 7,
   "id": "365b0e52-77f8-46a8-a0e8-2623537c755a",
   "metadata": {},
   "outputs": [
    {
     "name": "stdout",
     "output_type": "stream",
     "text": [
      "15.5 s ± 3.15 s per loop (mean ± std. dev. of 2 runs, 3 loops each)\n",
      "14.7 s ± 1.26 s per loop (mean ± std. dev. of 2 runs, 3 loops each)\n",
      "20.1 s ± 683 ms per loop (mean ± std. dev. of 2 runs, 3 loops each)\n",
      "23.6 s ± 1.62 s per loop (mean ± std. dev. of 2 runs, 3 loops each)\n",
      "26.4 s ± 2.87 s per loop (mean ± std. dev. of 2 runs, 3 loops each)\n",
      "31.4 s ± 4.97 s per loop (mean ± std. dev. of 2 runs, 3 loops each)\n",
      "1min 10s ± 764 ms per loop (mean ± std. dev. of 2 runs, 3 loops each)\n"
     ]
    }
   ],
   "source": [
    "np.random.seed(42) \n",
    "\n",
    "for n in nodes:\n",
    "    graph = locals()['g{}_{}'.format(i,n)]\n",
    "    locals()['r{}_{}'.format(i,n)] = timeResults(graph)"
   ]
  },
  {
   "cell_type": "code",
   "execution_count": 17,
   "id": "66d2bb26-01ae-4c78-b3de-a02b66948aeb",
   "metadata": {},
   "outputs": [],
   "source": [
    "times_lst = []\n",
    "\n",
    "for n in nodes:\n",
    "    times_lst.append((i,n,str(locals()['r{}_{}'.format(i,n)])))"
   ]
  },
  {
   "cell_type": "code",
   "execution_count": 18,
   "id": "c36feb8e-82a0-4387-9086-44fc99c75e21",
   "metadata": {},
   "outputs": [],
   "source": [
    "def getMean(ts):\n",
    "    splt =  ts.split('±')[0].split(' ')[0:2]\n",
    "    #if time in seconds, we dont need to do anything \n",
    "    if splt[1] == 's':\n",
    "        time = splt[0]\n",
    "        return time \n",
    "    else: #if time is 1min 10s for example\n",
    "        mins = splt[0][0] #take the number before 'min'\n",
    "        secs = splt[1][:-1] #take everything except the 's'\n",
    "        time = int(mins)*60 + int(secs) #convert to seconds\n",
    "        return time"
   ]
  },
  {
   "cell_type": "code",
   "execution_count": 19,
   "id": "cbceb221-c017-4c51-8378-f54a879972b9",
   "metadata": {},
   "outputs": [
    {
     "data": {
      "text/plain": [
       "'15.5 s ± 3.15 s per loop (mean ± std. dev. of 2 runs, 3 loops each)'"
      ]
     },
     "execution_count": 19,
     "metadata": {},
     "output_type": "execute_result"
    }
   ],
   "source": [
    "ts = times_lst[0][2]\n",
    "ts"
   ]
  },
  {
   "cell_type": "code",
   "execution_count": 20,
   "id": "1d859913-a29e-4631-9c78-8d56d8a5d5d7",
   "metadata": {},
   "outputs": [
    {
     "data": {
      "text/plain": [
       "['3.15', 's']"
      ]
     },
     "execution_count": 20,
     "metadata": {},
     "output_type": "execute_result"
    }
   ],
   "source": [
    "ts.split('±')[1].split(' ')[1:3]"
   ]
  },
  {
   "cell_type": "code",
   "execution_count": 21,
   "id": "0b4d72fa-df62-4fdf-82bc-71ac20b2f50a",
   "metadata": {},
   "outputs": [],
   "source": [
    "def getSD(ts):\n",
    "    splt = ts.split('±')[1].split(' ')[1:3]\n",
    "    if splt[1] == 'ms':\n",
    "        time = int(splt[0])/1000\n",
    "        return time\n",
    "    else:\n",
    "        time = splt[0]\n",
    "        return time"
   ]
  },
  {
   "cell_type": "code",
   "execution_count": 22,
   "id": "a9eadc72-485b-4f65-970e-c89a97f30327",
   "metadata": {},
   "outputs": [],
   "source": [
    "times_dict = {}\n",
    "times_dict['p'] = [i for i,n,ts in times_lst]\n",
    "times_dict['nodes'] = [n for i,n,ts in times_lst]\n",
    "times_dict['mean'] = [getMean(ts) for i,n,ts in times_lst]\n",
    "times_dict['sd'] = [getSD(ts) for i,n,ts in times_lst]"
   ]
  },
  {
   "cell_type": "code",
   "execution_count": 23,
   "id": "619c12e9-b86f-4a98-a640-a13862b52cfa",
   "metadata": {},
   "outputs": [
    {
     "data": {
      "text/plain": [
       "{'p': [2, 2, 2, 2, 2, 2, 2],\n",
       " 'nodes': [10, 32, 100, 316, 1000, 3162, 10000],\n",
       " 'mean': ['15.5', '14.7', '20.1', '23.6', '26.4', '31.4', 70],\n",
       " 'sd': ['3.15', '1.26', 0.683, '1.62', '2.87', '4.97', 0.764]}"
      ]
     },
     "execution_count": 23,
     "metadata": {},
     "output_type": "execute_result"
    }
   ],
   "source": [
    "times_dict"
   ]
  },
  {
   "cell_type": "code",
   "execution_count": 24,
   "id": "7f77dd86-9c79-4f25-8ebc-b50bd49a0167",
   "metadata": {},
   "outputs": [
    {
     "data": {
      "text/html": [
       "<div>\n",
       "<style scoped>\n",
       "    .dataframe tbody tr th:only-of-type {\n",
       "        vertical-align: middle;\n",
       "    }\n",
       "\n",
       "    .dataframe tbody tr th {\n",
       "        vertical-align: top;\n",
       "    }\n",
       "\n",
       "    .dataframe thead th {\n",
       "        text-align: right;\n",
       "    }\n",
       "</style>\n",
       "<table border=\"1\" class=\"dataframe\">\n",
       "  <thead>\n",
       "    <tr style=\"text-align: right;\">\n",
       "      <th></th>\n",
       "      <th>p</th>\n",
       "      <th>nodes</th>\n",
       "      <th>mean</th>\n",
       "      <th>sd</th>\n",
       "    </tr>\n",
       "  </thead>\n",
       "  <tbody>\n",
       "    <tr>\n",
       "      <th>0</th>\n",
       "      <td>2</td>\n",
       "      <td>10</td>\n",
       "      <td>15.5</td>\n",
       "      <td>3.15</td>\n",
       "    </tr>\n",
       "    <tr>\n",
       "      <th>1</th>\n",
       "      <td>2</td>\n",
       "      <td>32</td>\n",
       "      <td>14.7</td>\n",
       "      <td>1.26</td>\n",
       "    </tr>\n",
       "    <tr>\n",
       "      <th>2</th>\n",
       "      <td>2</td>\n",
       "      <td>100</td>\n",
       "      <td>20.1</td>\n",
       "      <td>0.683</td>\n",
       "    </tr>\n",
       "    <tr>\n",
       "      <th>3</th>\n",
       "      <td>2</td>\n",
       "      <td>316</td>\n",
       "      <td>23.6</td>\n",
       "      <td>1.62</td>\n",
       "    </tr>\n",
       "    <tr>\n",
       "      <th>4</th>\n",
       "      <td>2</td>\n",
       "      <td>1000</td>\n",
       "      <td>26.4</td>\n",
       "      <td>2.87</td>\n",
       "    </tr>\n",
       "    <tr>\n",
       "      <th>5</th>\n",
       "      <td>2</td>\n",
       "      <td>3162</td>\n",
       "      <td>31.4</td>\n",
       "      <td>4.97</td>\n",
       "    </tr>\n",
       "    <tr>\n",
       "      <th>6</th>\n",
       "      <td>2</td>\n",
       "      <td>10000</td>\n",
       "      <td>70</td>\n",
       "      <td>0.764</td>\n",
       "    </tr>\n",
       "  </tbody>\n",
       "</table>\n",
       "</div>"
      ],
      "text/plain": [
       "   p  nodes  mean     sd\n",
       "0  2     10  15.5   3.15\n",
       "1  2     32  14.7   1.26\n",
       "2  2    100  20.1  0.683\n",
       "3  2    316  23.6   1.62\n",
       "4  2   1000  26.4   2.87\n",
       "5  2   3162  31.4   4.97\n",
       "6  2  10000    70  0.764"
      ]
     },
     "execution_count": 24,
     "metadata": {},
     "output_type": "execute_result"
    }
   ],
   "source": [
    "times_df = pd.DataFrame(data=times_dict)\n",
    "times_df.sort_values(by=['p','nodes'])"
   ]
  },
  {
   "cell_type": "code",
   "execution_count": 25,
   "id": "f39a94bd-aa4a-4c7d-877f-30f492cc6092",
   "metadata": {},
   "outputs": [],
   "source": [
    "times_df.to_csv('../Data/p2_times_2.csv')"
   ]
  },
  {
   "cell_type": "markdown",
   "id": "c8ff21e5-fdf4-42b3-b28c-3b93204533f7",
   "metadata": {
    "jp-MarkdownHeadingCollapsed": true,
    "tags": []
   },
   "source": [
    "### PageRank"
   ]
  },
  {
   "cell_type": "code",
   "execution_count": 6,
   "id": "8d8b891f-31e8-4864-8058-b1a451de60c8",
   "metadata": {},
   "outputs": [],
   "source": [
    "#function for calculating num of communities\n",
    "#this is in a separate cell so that the magic %%time function in the next cell works correctly\n",
    "def pRank(graph):\n",
    "    return graph.pageRank(resetProbability=0.15, maxIter=10)"
   ]
  },
  {
   "cell_type": "code",
   "execution_count": 7,
   "id": "c569d6c4-343a-498a-8fa7-051847694080",
   "metadata": {},
   "outputs": [],
   "source": [
    "def timePR(graph):\n",
    "    result = %timeit -n10 -r10 -o pRank(graph)\n",
    "    return result"
   ]
  },
  {
   "cell_type": "code",
   "execution_count": 8,
   "id": "38477d63-6b24-41e3-990b-7d644743031a",
   "metadata": {},
   "outputs": [
    {
     "name": "stdout",
     "output_type": "stream",
     "text": [
      "1.26 s ± 314 ms per loop (mean ± std. dev. of 10 runs, 10 loops each)\n",
      "1.27 s ± 194 ms per loop (mean ± std. dev. of 10 runs, 10 loops each)\n",
      "1.22 s ± 292 ms per loop (mean ± std. dev. of 10 runs, 10 loops each)\n",
      "1.23 s ± 198 ms per loop (mean ± std. dev. of 10 runs, 10 loops each)\n",
      "1.31 s ± 237 ms per loop (mean ± std. dev. of 10 runs, 10 loops each)\n",
      "1.26 s ± 309 ms per loop (mean ± std. dev. of 10 runs, 10 loops each)\n",
      "1.34 s ± 244 ms per loop (mean ± std. dev. of 10 runs, 10 loops each)\n"
     ]
    }
   ],
   "source": [
    "np.random.seed(42) \n",
    "\n",
    "for n in nodes:\n",
    "    graph = locals()['g{}_{}'.format(i,n)]\n",
    "    locals()['r{}_{}'.format(i,n)] = timePR(graph)"
   ]
  },
  {
   "cell_type": "code",
   "execution_count": 9,
   "id": "f0e952e1-b4d6-4328-8310-351ca1448409",
   "metadata": {},
   "outputs": [],
   "source": [
    "times_lst = []\n",
    "\n",
    "for n in nodes:\n",
    "    times_lst.append((i,n,str(locals()['r{}_{}'.format(i,n)])))"
   ]
  },
  {
   "cell_type": "code",
   "execution_count": 10,
   "id": "57bde772-a776-4471-8533-c36294925b06",
   "metadata": {},
   "outputs": [],
   "source": [
    "def getMean(ts):\n",
    "    splt =  ts.split('±')[0].split(' ')[0:2]\n",
    "    #if time in seconds, we dont need to do anything \n",
    "    if splt[1] == 's':\n",
    "        time = splt[0]\n",
    "        return time \n",
    "    else: #if time is 1min 10s for example\n",
    "        mins = splt[0][0] #take the number before 'min'\n",
    "        secs = splt[1][:-1] #take everything except the 's'\n",
    "        time = int(mins)*60 + int(secs) #convert to seconds\n",
    "        return time"
   ]
  },
  {
   "cell_type": "code",
   "execution_count": 11,
   "id": "9f23e760-9d11-45cb-b507-78607d9cd099",
   "metadata": {},
   "outputs": [
    {
     "data": {
      "text/plain": [
       "'1.26 s ± 314 ms per loop (mean ± std. dev. of 10 runs, 10 loops each)'"
      ]
     },
     "execution_count": 11,
     "metadata": {},
     "output_type": "execute_result"
    }
   ],
   "source": [
    "ts = times_lst[0][2]\n",
    "ts"
   ]
  },
  {
   "cell_type": "code",
   "execution_count": 12,
   "id": "55970fe3-ce65-4e55-8c2e-6fdeb6a945af",
   "metadata": {},
   "outputs": [
    {
     "data": {
      "text/plain": [
       "['314', 'ms']"
      ]
     },
     "execution_count": 12,
     "metadata": {},
     "output_type": "execute_result"
    }
   ],
   "source": [
    "ts.split('±')[1].split(' ')[1:3]"
   ]
  },
  {
   "cell_type": "code",
   "execution_count": 13,
   "id": "64d91e13-eb58-433c-9eda-05fcf7261974",
   "metadata": {},
   "outputs": [],
   "source": [
    "def getSD(ts):\n",
    "    splt = ts.split('±')[1].split(' ')[1:3]\n",
    "    if splt[1] == 'ms':\n",
    "        time = int(splt[0])/1000\n",
    "        return time\n",
    "    else:\n",
    "        time = splt[0]\n",
    "        return time"
   ]
  },
  {
   "cell_type": "code",
   "execution_count": 14,
   "id": "9af3ac51-e949-434a-bb43-58973a3262df",
   "metadata": {},
   "outputs": [],
   "source": [
    "times_dict = {}\n",
    "times_dict['p'] = [i for i,n,ts in times_lst]\n",
    "times_dict['nodes'] = [n for i,n,ts in times_lst]\n",
    "times_dict['mean'] = [getMean(ts) for i,n,ts in times_lst]\n",
    "times_dict['sd'] = [getSD(ts) for i,n,ts in times_lst]"
   ]
  },
  {
   "cell_type": "code",
   "execution_count": 15,
   "id": "ebb22578-5c0a-4062-bd35-4c5e195f9e6e",
   "metadata": {},
   "outputs": [
    {
     "data": {
      "text/plain": [
       "{'p': [2, 2, 2, 2, 2, 2, 2],\n",
       " 'nodes': [10, 32, 100, 316, 1000, 3162, 10000],\n",
       " 'mean': ['1.26', '1.27', '1.22', '1.23', '1.31', '1.26', '1.34'],\n",
       " 'sd': [0.314, 0.194, 0.292, 0.198, 0.237, 0.309, 0.244]}"
      ]
     },
     "execution_count": 15,
     "metadata": {},
     "output_type": "execute_result"
    }
   ],
   "source": [
    "times_dict"
   ]
  },
  {
   "cell_type": "code",
   "execution_count": 19,
   "id": "6641c9cb-4568-47e2-80d7-5752c7a9fe04",
   "metadata": {},
   "outputs": [
    {
     "data": {
      "text/html": [
       "<div>\n",
       "<style scoped>\n",
       "    .dataframe tbody tr th:only-of-type {\n",
       "        vertical-align: middle;\n",
       "    }\n",
       "\n",
       "    .dataframe tbody tr th {\n",
       "        vertical-align: top;\n",
       "    }\n",
       "\n",
       "    .dataframe thead th {\n",
       "        text-align: right;\n",
       "    }\n",
       "</style>\n",
       "<table border=\"1\" class=\"dataframe\">\n",
       "  <thead>\n",
       "    <tr style=\"text-align: right;\">\n",
       "      <th></th>\n",
       "      <th>p</th>\n",
       "      <th>nodes</th>\n",
       "      <th>mean</th>\n",
       "      <th>sd</th>\n",
       "    </tr>\n",
       "  </thead>\n",
       "  <tbody>\n",
       "    <tr>\n",
       "      <th>0</th>\n",
       "      <td>2</td>\n",
       "      <td>10</td>\n",
       "      <td>1.26</td>\n",
       "      <td>0.314</td>\n",
       "    </tr>\n",
       "    <tr>\n",
       "      <th>1</th>\n",
       "      <td>2</td>\n",
       "      <td>32</td>\n",
       "      <td>1.27</td>\n",
       "      <td>0.194</td>\n",
       "    </tr>\n",
       "    <tr>\n",
       "      <th>2</th>\n",
       "      <td>2</td>\n",
       "      <td>100</td>\n",
       "      <td>1.22</td>\n",
       "      <td>0.292</td>\n",
       "    </tr>\n",
       "    <tr>\n",
       "      <th>3</th>\n",
       "      <td>2</td>\n",
       "      <td>316</td>\n",
       "      <td>1.23</td>\n",
       "      <td>0.198</td>\n",
       "    </tr>\n",
       "    <tr>\n",
       "      <th>4</th>\n",
       "      <td>2</td>\n",
       "      <td>1000</td>\n",
       "      <td>1.31</td>\n",
       "      <td>0.237</td>\n",
       "    </tr>\n",
       "    <tr>\n",
       "      <th>5</th>\n",
       "      <td>2</td>\n",
       "      <td>3162</td>\n",
       "      <td>1.26</td>\n",
       "      <td>0.309</td>\n",
       "    </tr>\n",
       "    <tr>\n",
       "      <th>6</th>\n",
       "      <td>2</td>\n",
       "      <td>10000</td>\n",
       "      <td>1.34</td>\n",
       "      <td>0.244</td>\n",
       "    </tr>\n",
       "  </tbody>\n",
       "</table>\n",
       "</div>"
      ],
      "text/plain": [
       "   p  nodes  mean     sd\n",
       "0  2     10  1.26  0.314\n",
       "1  2     32  1.27  0.194\n",
       "2  2    100  1.22  0.292\n",
       "3  2    316  1.23  0.198\n",
       "4  2   1000  1.31  0.237\n",
       "5  2   3162  1.26  0.309\n",
       "6  2  10000  1.34  0.244"
      ]
     },
     "execution_count": 19,
     "metadata": {},
     "output_type": "execute_result"
    }
   ],
   "source": [
    "times_df = pd.DataFrame(data=times_dict)\n",
    "times_df.sort_values(by=['p','nodes'])"
   ]
  },
  {
   "cell_type": "code",
   "execution_count": 20,
   "id": "871e87f5-cb93-4bae-8b39-ca1de68ff0f0",
   "metadata": {},
   "outputs": [],
   "source": [
    "times_df.to_csv('../Data/p2_times_pr.csv')"
   ]
  },
  {
   "cell_type": "code",
   "execution_count": null,
   "id": "c7299291-209f-4ae4-b55c-96866cb1a0d3",
   "metadata": {},
   "outputs": [],
   "source": []
  },
  {
   "cell_type": "code",
   "execution_count": null,
   "id": "e12e562a-7878-457b-b159-637ff72e43ec",
   "metadata": {},
   "outputs": [],
   "source": []
  }
 ],
 "metadata": {
  "kernelspec": {
   "display_name": "assessment4env",
   "language": "python",
   "name": "assessment4env"
  },
  "language_info": {
   "codemirror_mode": {
    "name": "ipython",
    "version": 3
   },
   "file_extension": ".py",
   "mimetype": "text/x-python",
   "name": "python",
   "nbconvert_exporter": "python",
   "pygments_lexer": "ipython3",
   "version": "3.8.5"
  }
 },
 "nbformat": 4,
 "nbformat_minor": 5
}
